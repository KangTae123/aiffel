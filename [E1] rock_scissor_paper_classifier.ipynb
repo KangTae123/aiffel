{
 "cells": [
  {
   "cell_type": "markdown",
   "metadata": {},
   "source": [
    "# rock scissor paper classification\n",
    "---"
   ]
  },
  {
   "cell_type": "code",
   "execution_count": 15,
   "metadata": {},
   "outputs": [],
   "source": [
    "import os, glob\n",
    "import matplotlib.pyplot as plt\n",
    "import string\n",
    "\n",
    "from PIL import Image\n",
    "\n",
    "img_path = os.getenv('HOME') + '/aiffel/data/e1_data/rcp/train/'\n",
    "\n",
    "target_size = (28,28)\n",
    "\n",
    "rock_len = 0\n",
    "scissor_len = 0\n",
    "paper_len = 0\n",
    "\n",
    "for num in range(1,42):\n",
    "    for folder in ['/rock','/scissor','/paper'] :\n",
    "        images = glob.glob(img_path+str(num)+folder+'/*.jpg')\n",
    "        #print(folder)\n",
    "        #print(len(images))\n",
    "        \n",
    "        if folder == '/rock':\n",
    "            rock_len += len(images)\n",
    "        elif folder == '/scissor':\n",
    "            scissor_len += len(images)\n",
    "            #print(len(images))\n",
    "        else:\n",
    "            paper_len += len(images)\n",
    "            \n",
    "        #if len(images)!=100:\n",
    "        #    print(img_path+str(num)+folder, len(images))\n",
    "        \n",
    "        for img in images:\n",
    "            old_img = Image.open(img)\n",
    "            new_img = old_img.resize(target_size,Image.ANTIALIAS)\n",
    "            new_img.save(img,'JPEG')\n"
   ]
  },
  {
   "cell_type": "markdown",
   "metadata": {},
   "source": [
    "#### image들은 36명의 각자의 묵찌빠 사진을 취합하였다\n",
    "#### 각 사람들의 image는 train dir과 test dir로 나뉘어 1~41 의 이름을 가진 dir에 있으며 \n",
    "#### 각 사람의 dir안에는 rock paper sccissor의 directory로 나뉘어 image가 들어가있다\n",
    "\n",
    "<br>\n",
    "\n",
    "#### 각 directory별로 loop돌면서 모든 image들을 28x28로 resize 시켜주었다."
   ]
  },
  {
   "cell_type": "code",
   "execution_count": 17,
   "metadata": {},
   "outputs": [
    {
     "name": "stdout",
     "output_type": "stream",
     "text": [
      "rock_len :  2708\n",
      "scissor_len :  2711\n",
      "paper_len :  2704\n",
      "총 이미지 개수 :  8123\n"
     ]
    }
   ],
   "source": [
    "print('rock_len : ', rock_len)\n",
    "print('scissor_len : ', scissor_len)\n",
    "print('paper_len : ', paper_len)\n",
    "\n",
    "total_img_len = rock_len + scissor_len + paper_len\n",
    "\n",
    "print('총 이미지 개수 : ', total_img_len)   "
   ]
  },
  {
   "cell_type": "markdown",
   "metadata": {},
   "source": [
    "#### 가위, 바위, 보 별 이미지 갯수는 위에 나와있는 것과 같으며 총 이미지 갯수는 10523개 이다."
   ]
  },
  {
   "cell_type": "code",
   "execution_count": 3,
   "metadata": {},
   "outputs": [
    {
     "data": {
      "image/png": "[encoded data removed]",
      "text/plain": [
       "<Figure size 432x288 with 1 Axes>"
      ]
     },
     "metadata": {
      "needs_background": "light"
     },
     "output_type": "display_data"
    }
   ],
   "source": [
    "#image check\n",
    "images = glob.glob(img_path+str(1)+'/rock'+'/*.jpg')\n",
    "\n",
    "img = Image.open(images[1])\n",
    "plt.imshow(img)\n",
    "plt.show()"
   ]
  },
  {
   "cell_type": "code",
   "execution_count": 4,
   "metadata": {},
   "outputs": [
    {
     "name": "stdout",
     "output_type": "stream",
     "text": [
      "(8424, 28, 28, 3)\n",
      "(8424,)\n",
      "학습데이터(x_train)의 이미지 개수는 8123 입니다.\n",
      "x_train shape: (8424, 28, 28, 3)\n",
      "y_train shape: (8424,)\n"
     ]
    }
   ],
   "source": [
    "import numpy as np\n",
    "\n",
    "img_size=28\n",
    "color=3\n",
    "train_image_size = 8424\n",
    "\n",
    "train_imgs=np.zeros(train_image_size*img_size*img_size*color,dtype=np.int32).reshape(train_image_size,img_size,img_size,color)\n",
    "train_labels=np.zeros(train_image_size,dtype=np.int32)\n",
    "\n",
    "print(train_imgs.shape)\n",
    "print(train_labels.shape)\n",
    "\n",
    "idx=0\n",
    "\n",
    "\n",
    "\n",
    "for num in range(1,33):\n",
    "    for file in glob.glob(img_path+str(num)+'/rock/*.jpg'):\n",
    "        img = np.array(Image.open(file),dtype=np.int32)\n",
    "        train_imgs[idx,:,:,:]=img    \n",
    "        train_labels[idx]=0   # rock : 0\n",
    "        idx=idx+1\n",
    "\n",
    "    for file in glob.glob(img_path+str(num)+'/scissor/*.jpg'):\n",
    "        img = np.array(Image.open(file),dtype=np.int32)\n",
    "        train_imgs[idx,:,:,:]=img    \n",
    "        train_labels[idx]=1   # scissor : 1\n",
    "        idx=idx+1\n",
    "    for file in glob.glob(img_path+str(num)+'/paper/*.jpg'):\n",
    "        img = np.array(Image.open(file),dtype=np.int32)\n",
    "        train_imgs[idx,:,:,:]=img   \n",
    "        train_labels[idx]=2   # paper : 2\n",
    "        idx=idx+1\n",
    "    \n",
    "print(\"학습데이터(x_train)의 이미지 개수는\",idx,\"입니다.\")\n",
    "\n",
    "x_train_norm = train_imgs/255.0\n",
    "\n",
    "print(\"x_train shape: {}\".format(x_train_norm.shape))\n",
    "print(\"y_train shape: {}\".format(train_labels.shape))\n"
   ]
  },
  {
   "cell_type": "markdown",
   "metadata": {},
   "source": [
    "#### test set을 위한(10523, 28, 28, 3) 의 shape를 가진 ndarray를 0으로 initiallize시켜준다\n",
    "#### training set을 위한 ndarray도 initialize시켜준다\n",
    "#### 각 rock, scissor, paper 로 분류된 directory 들을 돌며 image들을 test set에 넣고 directory이름을 통해 label도 값을 넣어준다\n",
    "#### 각 pixel 은 channel당 0-255의 값을 갖기에 0-1의값을 갖도록 normalize 시켜준다."
   ]
  },
  {
   "cell_type": "code",
   "execution_count": 5,
   "metadata": {},
   "outputs": [
    {
     "name": "stdout",
     "output_type": "stream",
     "text": [
      "(8423, 28, 28, 3)\n",
      "(1, 28, 28, 3)\n",
      "(8423,)\n",
      "(1,)\n"
     ]
    }
   ],
   "source": [
    "'''\n",
    "#from sklearn.model_selection import KFold\n",
    "\n",
    "from sklearn.model_selection import train_test_split\n",
    "\n",
    "x_tr, x_val, y_tr, y_val = train_test_split(x_train_norm, train_labels,test_size=0.00001, shuffle=True)\n",
    "\n",
    "print(x_tr.shape)\n",
    "print(x_val.shape)\n",
    "print(y_tr.shape)\n",
    "print(y_val.shape)\n",
    "'''"
   ]
  },
  {
   "cell_type": "markdown",
   "metadata": {},
   "source": [
    "#### 모든 dataset를 8:2의 비율로 training data와 test data로 split해주었다가 잘못되었음을 느끼고 다시 위에서 train test set 으로 나눔"
   ]
  },
  {
   "cell_type": "code",
   "execution_count": 13,
   "metadata": {},
   "outputs": [
    {
     "name": "stdout",
     "output_type": "stream",
     "text": [
      "Model: \"sequential_2\"\n",
      "_________________________________________________________________\n",
      "Layer (type)                 Output Shape              Param #   \n",
      "=================================================================\n",
      "conv2d_4 (Conv2D)            (None, 26, 26, 32)        896       \n",
      "_________________________________________________________________\n",
      "max_pooling2d_4 (MaxPooling2 (None, 13, 13, 32)        0         \n",
      "_________________________________________________________________\n",
      "conv2d_5 (Conv2D)            (None, 11, 11, 64)        18496     \n",
      "_________________________________________________________________\n",
      "max_pooling2d_5 (MaxPooling2 (None, 5, 5, 64)          0         \n",
      "_________________________________________________________________\n",
      "flatten_2 (Flatten)          (None, 1600)              0         \n",
      "_________________________________________________________________\n",
      "dense_4 (Dense)              (None, 128)               204928    \n",
      "_________________________________________________________________\n",
      "dense_5 (Dense)              (None, 3)                 387       \n",
      "=================================================================\n",
      "Total params: 224,707\n",
      "Trainable params: 224,707\n",
      "Non-trainable params: 0\n",
      "_________________________________________________________________\n",
      "Train on 6739 samples\n",
      "Epoch 1/5\n",
      "6739/6739 [==============================] - 1s 83us/sample - loss: 0.8413 - accuracy: 0.5982\n",
      "Epoch 2/5\n",
      "6739/6739 [==============================] - 0s 45us/sample - loss: 0.4963 - accuracy: 0.8050\n",
      "Epoch 3/5\n",
      "6739/6739 [==============================] - 0s 47us/sample - loss: 0.3181 - accuracy: 0.8817\n",
      "Epoch 4/5\n",
      "6739/6739 [==============================] - 0s 49us/sample - loss: 0.2220 - accuracy: 0.9211\n",
      "Epoch 5/5\n",
      "6739/6739 [==============================] - 0s 44us/sample - loss: 0.1616 - accuracy: 0.9448\n",
      "1685/1685 [==============================] - 0s 74us/sample - loss: 0.1641 - accuracy: 0.9412\n",
      "Model: \"sequential_3\"\n",
      "_________________________________________________________________\n",
      "Layer (type)                 Output Shape              Param #   \n",
      "=================================================================\n",
      "conv2d_6 (Conv2D)            (None, 26, 26, 32)        896       \n",
      "_________________________________________________________________\n",
      "max_pooling2d_6 (MaxPooling2 (None, 13, 13, 32)        0         \n",
      "_________________________________________________________________\n",
      "conv2d_7 (Conv2D)            (None, 11, 11, 64)        18496     \n",
      "_________________________________________________________________\n",
      "max_pooling2d_7 (MaxPooling2 (None, 5, 5, 64)          0         \n",
      "_________________________________________________________________\n",
      "flatten_3 (Flatten)          (None, 1600)              0         \n",
      "_________________________________________________________________\n",
      "dense_6 (Dense)              (None, 128)               204928    \n",
      "_________________________________________________________________\n",
      "dense_7 (Dense)              (None, 3)                 387       \n",
      "=================================================================\n",
      "Total params: 224,707\n",
      "Trainable params: 224,707\n",
      "Non-trainable params: 0\n",
      "_________________________________________________________________\n",
      "Train on 6739 samples\n",
      "Epoch 1/5\n",
      "6739/6739 [==============================] - 0s 70us/sample - loss: 0.8761 - accuracy: 0.5732\n",
      "Epoch 2/5\n",
      "6739/6739 [==============================] - 0s 45us/sample - loss: 0.5288 - accuracy: 0.7820\n",
      "Epoch 3/5\n",
      "6739/6739 [==============================] - 0s 46us/sample - loss: 0.3354 - accuracy: 0.8734\n",
      "Epoch 4/5\n",
      "6739/6739 [==============================] - 0s 45us/sample - loss: 0.2254 - accuracy: 0.9165\n",
      "Epoch 5/5\n",
      "6739/6739 [==============================] - 0s 48us/sample - loss: 0.1546 - accuracy: 0.9467\n",
      "1685/1685 [==============================] - 0s 69us/sample - loss: 0.2066 - accuracy: 0.9306\n",
      "Model: \"sequential_4\"\n",
      "_________________________________________________________________\n",
      "Layer (type)                 Output Shape              Param #   \n",
      "=================================================================\n",
      "conv2d_8 (Conv2D)            (None, 26, 26, 32)        896       \n",
      "_________________________________________________________________\n",
      "max_pooling2d_8 (MaxPooling2 (None, 13, 13, 32)        0         \n",
      "_________________________________________________________________\n",
      "conv2d_9 (Conv2D)            (None, 11, 11, 64)        18496     \n",
      "_________________________________________________________________\n",
      "max_pooling2d_9 (MaxPooling2 (None, 5, 5, 64)          0         \n",
      "_________________________________________________________________\n",
      "flatten_4 (Flatten)          (None, 1600)              0         \n",
      "_________________________________________________________________\n",
      "dense_8 (Dense)              (None, 128)               204928    \n",
      "_________________________________________________________________\n",
      "dense_9 (Dense)              (None, 3)                 387       \n",
      "=================================================================\n",
      "Total params: 224,707\n",
      "Trainable params: 224,707\n",
      "Non-trainable params: 0\n",
      "_________________________________________________________________\n",
      "Train on 6739 samples\n",
      "Epoch 1/5\n",
      "6739/6739 [==============================] - 1s 77us/sample - loss: 0.8784 - accuracy: 0.5652\n",
      "Epoch 2/5\n",
      "6739/6739 [==============================] - 0s 55us/sample - loss: 0.5429 - accuracy: 0.7753\n",
      "Epoch 3/5\n",
      "6739/6739 [==============================] - 0s 46us/sample - loss: 0.3356 - accuracy: 0.8740\n",
      "Epoch 4/5\n",
      "6739/6739 [==============================] - 0s 49us/sample - loss: 0.2257 - accuracy: 0.9159\n",
      "Epoch 5/5\n",
      "6739/6739 [==============================] - 0s 49us/sample - loss: 0.1532 - accuracy: 0.9472\n",
      "1685/1685 [==============================] - 0s 64us/sample - loss: 0.1764 - accuracy: 0.9359\n",
      "Model: \"sequential_5\"\n",
      "_________________________________________________________________\n",
      "Layer (type)                 Output Shape              Param #   \n",
      "=================================================================\n",
      "conv2d_10 (Conv2D)           (None, 26, 26, 32)        896       \n",
      "_________________________________________________________________\n",
      "max_pooling2d_10 (MaxPooling (None, 13, 13, 32)        0         \n",
      "_________________________________________________________________\n",
      "conv2d_11 (Conv2D)           (None, 11, 11, 64)        18496     \n",
      "_________________________________________________________________\n",
      "max_pooling2d_11 (MaxPooling (None, 5, 5, 64)          0         \n",
      "_________________________________________________________________\n",
      "flatten_5 (Flatten)          (None, 1600)              0         \n",
      "_________________________________________________________________\n",
      "dense_10 (Dense)             (None, 128)               204928    \n",
      "_________________________________________________________________\n",
      "dense_11 (Dense)             (None, 3)                 387       \n",
      "=================================================================\n",
      "Total params: 224,707\n",
      "Trainable params: 224,707\n",
      "Non-trainable params: 0\n",
      "_________________________________________________________________\n",
      "Train on 6739 samples\n",
      "Epoch 1/5\n",
      "6739/6739 [==============================] - 0s 72us/sample - loss: 0.8546 - accuracy: 0.5741\n",
      "Epoch 2/5\n",
      "6739/6739 [==============================] - 0s 44us/sample - loss: 0.4829 - accuracy: 0.8080\n",
      "Epoch 3/5\n",
      "6739/6739 [==============================] - 0s 45us/sample - loss: 0.3141 - accuracy: 0.8804\n",
      "Epoch 4/5\n",
      "6739/6739 [==============================] - 0s 44us/sample - loss: 0.2156 - accuracy: 0.9228\n",
      "Epoch 5/5\n",
      "6739/6739 [==============================] - 0s 44us/sample - loss: 0.1505 - accuracy: 0.9473\n",
      "1685/1685 [==============================] - 0s 59us/sample - loss: 0.1633 - accuracy: 0.9436\n",
      "Model: \"sequential_6\"\n",
      "_________________________________________________________________\n",
      "Layer (type)                 Output Shape              Param #   \n",
      "=================================================================\n",
      "conv2d_12 (Conv2D)           (None, 26, 26, 32)        896       \n",
      "_________________________________________________________________\n",
      "max_pooling2d_12 (MaxPooling (None, 13, 13, 32)        0         \n",
      "_________________________________________________________________\n",
      "conv2d_13 (Conv2D)           (None, 11, 11, 64)        18496     \n",
      "_________________________________________________________________\n",
      "max_pooling2d_13 (MaxPooling (None, 5, 5, 64)          0         \n",
      "_________________________________________________________________\n",
      "flatten_6 (Flatten)          (None, 1600)              0         \n",
      "_________________________________________________________________\n",
      "dense_12 (Dense)             (None, 128)               204928    \n",
      "_________________________________________________________________\n",
      "dense_13 (Dense)             (None, 3)                 387       \n",
      "=================================================================\n",
      "Total params: 224,707\n",
      "Trainable params: 224,707\n",
      "Non-trainable params: 0\n",
      "_________________________________________________________________\n"
     ]
    },
    {
     "name": "stdout",
     "output_type": "stream",
     "text": [
      "Train on 6740 samples\n",
      "Epoch 1/5\n",
      "6740/6740 [==============================] - 1s 89us/sample - loss: 0.8469 - accuracy: 0.5904\n",
      "Epoch 2/5\n",
      "6740/6740 [==============================] - 0s 44us/sample - loss: 0.4769 - accuracy: 0.8015\n",
      "Epoch 3/5\n",
      "6740/6740 [==============================] - 0s 44us/sample - loss: 0.3087 - accuracy: 0.8797\n",
      "Epoch 4/5\n",
      "6740/6740 [==============================] - 0s 44us/sample - loss: 0.2123 - accuracy: 0.9233\n",
      "Epoch 5/5\n",
      "6740/6740 [==============================] - 0s 43us/sample - loss: 0.1382 - accuracy: 0.9513\n",
      "1684/1684 [==============================] - 0s 61us/sample - loss: 0.1633 - accuracy: 0.9460\n"
     ]
    },
    {
     "data": {
      "text/plain": [
       "'\\n# 모델 시험\\ntest_loss, test_accuracy = model2.evaluate(x_val, y_val, verbose=2)\\nprint(\"test_loss: {} \".format(test_loss))\\nprint(\"test_accuracy: {}\".format(test_accuracy))\\n'"
      ]
     },
     "execution_count": 13,
     "metadata": {},
     "output_type": "execute_result"
    }
   ],
   "source": [
    "import tensorflow as tf\n",
    "from tensorflow import keras\n",
    "import numpy as np\n",
    "\n",
    "from keras.wrappers.scikit_learn import KerasClassifier\n",
    "from sklearn.model_selection import KFold\n",
    "from sklearn.model_selection import cross_val_score\n",
    "\n",
    "kfold = KFold(n_splits=5, shuffle=True, random_state=0)\n",
    "\n",
    "n_channel_1 = 32\n",
    "n_channel_2 = 64\n",
    "n_dense = 128\n",
    "n_train_epoch=30\n",
    "\n",
    "def create_model():\n",
    "    model=keras.models.Sequential()\n",
    "    model.add(keras.layers.Conv2D(n_channel_1, (3,3), activation='relu', input_shape=(28,28,3)))\n",
    "    model.add(keras.layers.MaxPool2D(2,2))\n",
    "    model.add(keras.layers.Conv2D(n_channel_2, (3,3), activation='relu'))\n",
    "    model.add(keras.layers.MaxPooling2D((2,2)))\n",
    "    model.add(keras.layers.Flatten())\n",
    "    model.add(keras.layers.Dense(n_dense, activation='relu'))\n",
    "    model.add(keras.layers.Dense(3, activation='softmax'))\n",
    "\n",
    "    model.summary()\n",
    "    model.compile(optimizer='adam',\n",
    "                  loss='sparse_categorical_crossentropy',\n",
    "                  metrics=['accuracy'])\n",
    "    return model\n",
    "\n",
    "model = KerasClassifier(build_fn=create_model, epochs=5)\n",
    "\n",
    "score = cross_val_score(model, x_train_norm, train_labels, cv=kfold, n_jobs=1)\n",
    "\n",
    "# 모델 훈련\n",
    "#model.fit(x_tr, y_tr, epochs=n_train_epoch)\n"
   ]
  },
  {
   "cell_type": "code",
   "execution_count": 14,
   "metadata": {},
   "outputs": [
    {
     "data": {
      "text/plain": [
       "array([0.94124627, 0.93056381, 0.93590504, 0.9436202 , 0.94596201])"
      ]
     },
     "execution_count": 14,
     "metadata": {},
     "output_type": "execute_result"
    }
   ],
   "source": [
    "score"
   ]
  },
  {
   "cell_type": "markdown",
   "metadata": {},
   "source": [
    "## cross validation score이 의미가없다.\n",
    "## train test split도 의미가 없는데...\n",
    "## 사실 약 40명분당 가위바위보 별 100장씩의 image를  갖고있지만 사실 한명당 3장의 가위바위보에 약간의 노이즈를 추가시킨 99장의 image라고 생각한다\n",
    "## 더이상 내가아는 검증 방법은없다\n",
    "## 같은 구조의 모델이 왜 같은 데이터와 같은 파라미터로 학습시켰는데 왜  모델마다 같은 test set에대한 성능차이의 폭이 큰지 모르겠다\n",
    "## 더이상은 이 프로젝트의 범위를 넘어가는 것 같아 \n",
    "## 그냥 일단 진행"
   ]
  },
  {
   "cell_type": "code",
   "execution_count": 18,
   "metadata": {},
   "outputs": [
    {
     "name": "stdout",
     "output_type": "stream",
     "text": [
      "학습데이터의 이미지 개수는 2100 입니다.\n"
     ]
    }
   ],
   "source": [
    "number_of_data=2100\n",
    "img_size=28\n",
    "color=3\n",
    "\n",
    "test_imgs=np.zeros(number_of_data*img_size*img_size*color,dtype=np.int32).reshape(number_of_data,img_size,img_size,color)\n",
    "test_labels=np.zeros(number_of_data,dtype=np.int32)\n",
    "\n",
    "img_path = os.getenv('HOME') + '/aiffel/data/e1_data/rcp/test/'\n",
    "\n",
    "idx=0\n",
    "\n",
    "for num in range(33,42):\n",
    "    for file in glob.glob(img_path+str(num)+'/rock/*.jpg'):\n",
    "        img = np.array(Image.open(file),dtype=np.int32)\n",
    "        test_imgs[idx,:,:,:]=img    \n",
    "        test_labels[idx]=0   # rock : 0\n",
    "        idx=idx+1\n",
    "\n",
    "    for file in glob.glob(img_path+str(num)+'/scissor/*.jpg'):\n",
    "        img = np.array(Image.open(file),dtype=np.int32)\n",
    "        test_imgs[idx,:,:,:]=img    \n",
    "        test_labels[idx]=1   # scissor : 1\n",
    "        idx=idx+1\n",
    "    for file in glob.glob(img_path+str(num)+'/paper/*.jpg'):\n",
    "        img = np.array(Image.open(file),dtype=np.int32)\n",
    "        test_imgs[idx,:,:,:]=img   \n",
    "        test_labels[idx]=2   # paper : 2\n",
    "        idx=idx+1\n",
    "    \n",
    "print(\"학습데이터의 이미지 개수는\",idx,\"입니다.\")\n",
    "\n",
    "x_test_norm = test_imgs/255.0\n",
    "\n",
    "\n"
   ]
  },
  {
   "cell_type": "code",
   "execution_count": 8,
   "metadata": {},
   "outputs": [
    {
     "name": "stdout",
     "output_type": "stream",
     "text": [
      "2100/2100 - 0s - loss: 3.0854 - accuracy: 0.6995\n",
      "test_loss: 3.0853689590476763 \n",
      "test_accuracy: 0.6995238065719604\n"
     ]
    }
   ],
   "source": [
    "test_loss, test_accuracy = model.evaluate(x_test_norm, test_labels, verbose=2)\n",
    "print(\"test_loss: {} \".format(test_loss))\n",
    "print(\"test_accuracy: {}\".format(test_accuracy))\n"
   ]
  }
 ],
 "metadata": {
  "kernelspec": {
   "display_name": "aiffel",
   "language": "python",
   "name": "aiffel"
  },
  "language_info": {
   "codemirror_mode": {
    "name": "ipython",
    "version": 3
   },
   "file_extension": ".py",
   "mimetype": "text/x-python",
   "name": "python",
   "nbconvert_exporter": "python",
   "pygments_lexer": "ipython3",
   "version": "3.7.9"
  }
 },
 "nbformat": 4,
 "nbformat_minor": 4
}
